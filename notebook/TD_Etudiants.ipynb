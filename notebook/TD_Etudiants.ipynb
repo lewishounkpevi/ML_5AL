{
 "cells": [
  {
   "cell_type": "code",
   "execution_count": 3,
   "id": "04324da2",
   "metadata": {},
   "outputs": [],
   "source": [
    "from src.generate_data import generate_student_dataset, generate_dirty_student_dataset"
   ]
  },
  {
   "cell_type": "code",
   "execution_count": 6,
   "id": "c8a67089",
   "metadata": {},
   "outputs": [],
   "source": [
    "from src.generate_data import (\n",
    "    generate_student_dataset,\n",
    "    generate_dirty_student_dataset,\n",
    "    clean_student_dataset,\n",
    ")\n",
    "\n",
    "\n",
    "from src.utils import (\n",
    "    notify_done,\n",
    ")\n",
    "\n",
    "from src.predict import predict_student_status\n",
    "\n",
    "from src.model_training import train_with_gridsearch\n",
    "\n",
    "from src.data_processing import load_data, preprocess_data, prepare_train_test"
   ]
  },
  {
   "cell_type": "code",
   "execution_count": 4,
   "id": "2b6333aa",
   "metadata": {},
   "outputs": [
    {
     "name": "stdout",
     "output_type": "stream",
     "text": [
      "✅ Fichier 'students_dataset.csv' généré avec 50000 lignes sur 20 années.\n"
     ]
    }
   ],
   "source": [
    "generate_student_dataset()"
   ]
  },
  {
   "cell_type": "code",
   "execution_count": 7,
   "id": "8f6bf098",
   "metadata": {},
   "outputs": [
    {
     "name": "stdout",
     "output_type": "stream",
     "text": [
      "⚠️ Fichier sale 'dirty_5AL_students_dataset.csv' généré avec 50500 lignes (avec bruit, doublons et valeurs manquantes).\n"
     ]
    }
   ],
   "source": [
    "df_student = generate_dirty_student_dataset(n_students=50000, n_years=20, start_year=2005, output_csv='dirty_5AL_students_dataset.csv')"
   ]
  },
  {
   "cell_type": "markdown",
   "id": "31d5bc7b",
   "metadata": {},
   "source": [
    "# TP Machine Learning Supervisé – Prédiction de Réussite Étudiante\n",
    "\n",
    "## Objectif du TP\n",
    "\n",
    "Le modèle sera construit à partir d’un jeu de données intégrant des variables personnelles (comme l’âge et le genre), des indicateurs de performance académique (tels que les notes dans différentes matières), ainsi que des caractéristiques socio-économiques (notamment les revenus de l’étudiant et ceux de ses parents, ou encore le type de résidence et la région d’origine).\n",
    "\n",
    "L’objectif est de mettre en évidence les facteurs déterminants dans la réussite académique et de fournir un outil d’aide à la décision pouvant être utilisé, par exemple, dans une démarche de prévention du décrochage ou d’orientation pédagogique personnalisée. Cette approche repose sur l’entraînement et l’évaluation rigoureuse de modèles de classification binaire, dans un cadre méthodologique reproductible et interprétable.\n",
    "\n",
    "---\n",
    "\n",
    "## Données disponibles\n",
    "\n",
    "Fichier fourni : `students_software_engineering.csv`  \n",
    "Nombre de lignes : 50 000  \n",
    "Chaque ligne représente un étudiant.\n",
    "\n",
    "### Variables principales :\n",
    "\n",
    "| Colonne | Description |\n",
    "|--------|-------------|\n",
    "| `Age` | Âge de l'étudiant |\n",
    "| `Gender` | Sexe |\n",
    "| `Academic_Year` | Année académique (de 2005 à 2024) |\n",
    "| `Region` | Région géographique |\n",
    "| `Residence_Type` | Type de résidence (Urbain, Rural...) |\n",
    "| `Student_Income_EUR` | Revenu mensuel de l'étudiant |\n",
    "| `Parent_Income_EUR` | Revenu mensuel des parents |\n",
    "| `Grade_Math`, `Grade_Programming`, etc. | Notes dans les différentes matières |\n",
    "| `Average_Grade` | Moyenne calculée sur toutes les notes |\n",
    "| `Status` | Cible à prédire : `Success` ou `Failure` |\n",
    "\n",
    "---\n",
    "\n",
    "## Tâches à réaliser\n",
    "\n",
    "### 1. Analyse exploratoire des données (EDA)\n",
    "\n",
    "- Lire le fichier CSV dans un `pandas.DataFrame`\n",
    "- Comprendre la structure du dataset\n",
    "- Identifier :\n",
    "  - Les colonnes avec valeurs manquantes\n",
    "  - Les types de variables\n",
    "  - Les distributions de variables clés (notes, revenus, régions…)\n",
    "- Analyser la répartition de la **variable cible** `Status`\n",
    "- Toutes autres analyses\n",
    "\n",
    "### 2. Préparation des données\n",
    "\n",
    "### 3. Entraînement des modèles\n",
    "\n",
    "- Entraîner au moins **3 modèles différents**\n",
    "- Comparer leurs performances avec :\n",
    "  - Accuracy\n",
    "  - Précision\n",
    "  - Rappel\n",
    "  - Matrice de confusion\n",
    "\n",
    "### 4. Interprétation\n",
    "\n",
    "- Quelles variables influencent le plus la réussite ?\n",
    "- Quels sont les étudiants les plus à risque d’échec ?\n",
    "- Quelle est la **meilleure stratégie d’intervention** pour l’école ?\n",
    "\n",
    "---\n",
    "\n",
    "## Livrables attendus\n",
    "\n",
    "1. **Notebook Jupyter** avec :\n",
    "   - Code propre et commenté\n",
    "   - Visualisations utiles\n",
    "   - Explications des choix et interprétations\n",
    "\n",
    "2. récapitulant :\n",
    "   - Méthodologie\n",
    "   - Résultats\n",
    "   - Recommandations finales\n"
   ]
  },
  {
   "cell_type": "markdown",
   "id": "fa55ffa5",
   "metadata": {},
   "source": []
  }
 ],
 "metadata": {
  "kernelspec": {
   "display_name": ".cours-ml",
   "language": "python",
   "name": "python3"
  },
  "language_info": {
   "codemirror_mode": {
    "name": "ipython",
    "version": 3
   },
   "file_extension": ".py",
   "mimetype": "text/x-python",
   "name": "python",
   "nbconvert_exporter": "python",
   "pygments_lexer": "ipython3",
   "version": "3.11.0"
  }
 },
 "nbformat": 4,
 "nbformat_minor": 5
}
